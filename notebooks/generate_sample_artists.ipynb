{
 "cells": [
  {
   "cell_type": "code",
   "execution_count": 1,
   "id": "8939d8fb",
   "metadata": {},
   "outputs": [],
   "source": [
    "import spotipy as sp\n",
    "import pandas as pd\n",
    "from dotenv import load_dotenv\n",
    "\n",
    "# Load credentials from environment\n",
    "load_dotenv()\n",
    "auth_manager = sp.oauth2.SpotifyClientCredentials()\n",
    "spotify = sp.Spotify(auth_manager=auth_manager)"
   ]
  },
  {
   "cell_type": "code",
   "execution_count": 7,
   "id": "2a509132",
   "metadata": {},
   "outputs": [
    {
     "name": "stdout",
     "output_type": "stream",
     "text": [
      "2319\n"
     ]
    }
   ],
   "source": [
    "artist_ids = pd.read_csv('data/artist_ids_sample.csv', squeeze=True).tolist()\n",
    "artists = []\n",
    "# chunk the requests\n",
    "for i in range(50, len(artist_ids), 50):\n",
    "    artists.extend(spotify.artists(artist_ids[i:i+50])['artists'])\n",
    "print(len(artists))"
   ]
  },
  {
   "cell_type": "code",
   "execution_count": 9,
   "id": "b52d1d7a",
   "metadata": {},
   "outputs": [],
   "source": [
    "artist_records = []\n",
    "for artist in artists:\n",
    "    try:\n",
    "        id = artist['id']\n",
    "        name = artist['name']\n",
    "        popularity = artist['popularity']\n",
    "        followers = artist['followers']['total']\n",
    "        genres = ', '.join(artist['genres'])\n",
    "        artist_records.append((id, name, popularity, followers, genres))\n",
    "    except KeyError:\n",
    "        continue"
   ]
  },
  {
   "cell_type": "code",
   "execution_count": 11,
   "id": "1c1cbc2b",
   "metadata": {},
   "outputs": [],
   "source": [
    "df = pd.DataFrame(artist_records, columns=['Id','Name','Popularity','Followers','Genres'])\n",
    "df.to_csv('data/artists_sample.csv', index=False)"
   ]
  },
  {
   "cell_type": "code",
   "execution_count": null,
   "id": "1822b208",
   "metadata": {},
   "outputs": [],
   "source": []
  }
 ],
 "metadata": {
  "kernelspec": {
   "display_name": "Python 3 (ipykernel)",
   "language": "python",
   "name": "python3"
  },
  "language_info": {
   "codemirror_mode": {
    "name": "ipython",
    "version": 3
   },
   "file_extension": ".py",
   "mimetype": "text/x-python",
   "name": "python",
   "nbconvert_exporter": "python",
   "pygments_lexer": "ipython3",
   "version": "3.8.3"
  }
 },
 "nbformat": 4,
 "nbformat_minor": 5
}
