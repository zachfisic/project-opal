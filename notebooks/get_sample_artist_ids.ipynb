{
 "cells": [
  {
   "cell_type": "code",
   "execution_count": 4,
   "id": "62abe330",
   "metadata": {},
   "outputs": [],
   "source": [
    "import pandas as pd\n",
    "import spotipy as sp\n",
    "from dotenv import load_dotenv\n",
    "\n",
    "# Load credentials from environment variables\n",
    "load_dotenv()\n",
    "auth_manager = sp.oauth2.SpotifyClientCredentials()\n",
    "spotify = sp.Spotify(auth_manager=auth_manager)"
   ]
  },
  {
   "cell_type": "code",
   "execution_count": 23,
   "id": "83db0c2f",
   "metadata": {},
   "outputs": [],
   "source": [
    "def get_all_user_playlist_ids(user):\n",
    "    \"\"\"Gets the ids for all user playlists built by a given user.\"\"\"\n",
    "    \n",
    "    playlists = spotify.user_playlists(user)\n",
    "    playlist_ids = []\n",
    "    # iterate for as many pages that exist\n",
    "    while playlists:\n",
    "        for playlist in playlists['items']:\n",
    "            playlist_ids.append(playlist['id'])\n",
    "        if playlists['next']:\n",
    "            playlists = spotify.next(playlists)\n",
    "        else:\n",
    "            playlists = None\n",
    "    return playlist_ids\n",
    "\n",
    "\n",
    "def get_all_playlist_tracks(playlist_ids, limit_per_playlist=1, pages=1):\n",
    "    \"\"\"Get all tracks from a list of playlist IDs\"\"\"\n",
    "    \n",
    "    all_tracks = [] \n",
    "    for id in playlist_ids:\n",
    "        count = 0\n",
    "        tracks = spotify.playlist_tracks(id, limit=limit_per_playlist)\n",
    "        all_tracks.extend(tracks['items'])\n",
    "        while tracks['next'] and count < pages:\n",
    "            tracks = spotify.next(tracks)\n",
    "            all_tracks.extend(tracks['items'])\n",
    "            count += 1\n",
    "    return all_trackshttp://localhost:8888/notebooks/Untitled.ipynb?kernel_name=python3#"
   ]
  },
  {
   "cell_type": "code",
   "execution_count": 24,
   "id": "1796dcf8",
   "metadata": {
    "scrolled": true
   },
   "outputs": [
    {
     "name": "stdout",
     "output_type": "stream",
     "text": [
      "2548\n"
     ]
    }
   ],
   "source": [
    "ids = get_all_user_playlist_ids('spotify')\n",
    "tracks = get_all_playlist_tracks(ids)\n",
    "print(len(tracks))"
   ]
  },
  {
   "cell_type": "code",
   "execution_count": 27,
   "id": "88f32bb3",
   "metadata": {},
   "outputs": [],
   "source": [
    "all_artists = []\n",
    "for track in tracks:\n",
    "    if 'track' in track and track['track'] != None:\n",
    "        all_artists.extend(track['track']['artists'])\n",
    "all_artist_ids = [artist['id'] for artist in all_artists]\n",
    "all_artist_ids = pd.Series(all_artist_ids).drop_duplicates()\n",
    "all_artist_ids = all_artist_ids.dropna()\n",
    "artists = pd.Series(all_artist_ids, name='Artist_Id')\n",
    "artists.to_csv('data/artist_ids_sample.csv', index=False)"
   ]
  }
 ],
 "metadata": {
  "kernelspec": {
   "display_name": "Python 3 (ipykernel)",
   "language": "python",
   "name": "python3"
  },
  "language_info": {
   "codemirror_mode": {
    "name": "ipython",
    "version": 3
   },
   "file_extension": ".py",
   "mimetype": "text/x-python",
   "name": "python",
   "nbconvert_exporter": "python",
   "pygments_lexer": "ipython3",
   "version": "3.8.3"
  }
 },
 "nbformat": 4,
 "nbformat_minor": 5
}
