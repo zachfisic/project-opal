{
 "cells": [
  {
   "cell_type": "code",
   "execution_count": 46,
   "id": "dd6794e3",
   "metadata": {},
   "outputs": [],
   "source": [
    "import pandas as pd\n",
    "import itertools\n",
    "from igraph import *\n",
    "\n",
    "artists_df = pd.read_csv('data/artists_sample.csv')"
   ]
  },
  {
   "cell_type": "code",
   "execution_count": 47,
   "id": "3361896a",
   "metadata": {},
   "outputs": [
    {
     "data": {
      "text/html": [
       "<div>\n",
       "<style scoped>\n",
       "    .dataframe tbody tr th:only-of-type {\n",
       "        vertical-align: middle;\n",
       "    }\n",
       "\n",
       "    .dataframe tbody tr th {\n",
       "        vertical-align: top;\n",
       "    }\n",
       "\n",
       "    .dataframe thead th {\n",
       "        text-align: right;\n",
       "    }\n",
       "</style>\n",
       "<table border=\"1\" class=\"dataframe\">\n",
       "  <thead>\n",
       "    <tr style=\"text-align: right;\">\n",
       "      <th></th>\n",
       "      <th>Id</th>\n",
       "      <th>Name</th>\n",
       "      <th>Popularity</th>\n",
       "      <th>Followers</th>\n",
       "      <th>Genres</th>\n",
       "    </tr>\n",
       "  </thead>\n",
       "  <tbody>\n",
       "    <tr>\n",
       "      <th>0</th>\n",
       "      <td>43ZHCT0cAZBISjO8DG9PnE</td>\n",
       "      <td>Elvis Presley</td>\n",
       "      <td>81</td>\n",
       "      <td>6230579</td>\n",
       "      <td>adult standards, rock-and-roll, rockabilly</td>\n",
       "    </tr>\n",
       "    <tr>\n",
       "      <th>1</th>\n",
       "      <td>1Mxqyy3pSjf8kZZL4QVxS0</td>\n",
       "      <td>Frank Sinatra</td>\n",
       "      <td>84</td>\n",
       "      <td>5335732</td>\n",
       "      <td>adult standards, easy listening, lounge</td>\n",
       "    </tr>\n",
       "    <tr>\n",
       "      <th>2</th>\n",
       "      <td>5y2Xq6xcjJb2jVM54GHK3t</td>\n",
       "      <td>John Legend</td>\n",
       "      <td>82</td>\n",
       "      <td>6076119</td>\n",
       "      <td>neo soul, pop, pop soul, r&amp;b, urban contemporary</td>\n",
       "    </tr>\n",
       "    <tr>\n",
       "      <th>3</th>\n",
       "      <td>06HL4z0CvFAxyc27GXpf02</td>\n",
       "      <td>Taylor Swift</td>\n",
       "      <td>98</td>\n",
       "      <td>48303522</td>\n",
       "      <td>pop</td>\n",
       "    </tr>\n",
       "    <tr>\n",
       "      <th>4</th>\n",
       "      <td>1FtBEIWAwvw5ymBen5GICR</td>\n",
       "      <td>Chlöe</td>\n",
       "      <td>69</td>\n",
       "      <td>129872</td>\n",
       "      <td>NaN</td>\n",
       "    </tr>\n",
       "    <tr>\n",
       "      <th>5</th>\n",
       "      <td>31W5EY0aAly4Qieq6OFu6I</td>\n",
       "      <td>A Boogie Wit da Hoodie</td>\n",
       "      <td>86</td>\n",
       "      <td>6233744</td>\n",
       "      <td>melodic rap, rap, trap</td>\n",
       "    </tr>\n",
       "    <tr>\n",
       "      <th>6</th>\n",
       "      <td>3qiHUAX7zY4Qnjx8TNUzVx</td>\n",
       "      <td>Yeat</td>\n",
       "      <td>77</td>\n",
       "      <td>180160</td>\n",
       "      <td>vapor trap</td>\n",
       "    </tr>\n",
       "    <tr>\n",
       "      <th>7</th>\n",
       "      <td>44IvvHRk2XF243QLA2VOa8</td>\n",
       "      <td>Stunna 4 Vegas</td>\n",
       "      <td>65</td>\n",
       "      <td>719508</td>\n",
       "      <td>trap</td>\n",
       "    </tr>\n",
       "    <tr>\n",
       "      <th>8</th>\n",
       "      <td>7xTKLpo7UCzXSnlH7fOIoM</td>\n",
       "      <td>Redman</td>\n",
       "      <td>69</td>\n",
       "      <td>899051</td>\n",
       "      <td>east coast hip hop, gangster rap, hardcore hip...</td>\n",
       "    </tr>\n",
       "    <tr>\n",
       "      <th>9</th>\n",
       "      <td>2VX0o9LDIVmKIgpnwdJpOJ</td>\n",
       "      <td>Erick Sermon</td>\n",
       "      <td>54</td>\n",
       "      <td>167385</td>\n",
       "      <td>alternative hip hop, gangster rap, hardcore hi...</td>\n",
       "    </tr>\n",
       "  </tbody>\n",
       "</table>\n",
       "</div>"
      ],
      "text/plain": [
       "                       Id                    Name  Popularity  Followers  \\\n",
       "0  43ZHCT0cAZBISjO8DG9PnE           Elvis Presley          81    6230579   \n",
       "1  1Mxqyy3pSjf8kZZL4QVxS0           Frank Sinatra          84    5335732   \n",
       "2  5y2Xq6xcjJb2jVM54GHK3t             John Legend          82    6076119   \n",
       "3  06HL4z0CvFAxyc27GXpf02            Taylor Swift          98   48303522   \n",
       "4  1FtBEIWAwvw5ymBen5GICR                   Chlöe          69     129872   \n",
       "5  31W5EY0aAly4Qieq6OFu6I  A Boogie Wit da Hoodie          86    6233744   \n",
       "6  3qiHUAX7zY4Qnjx8TNUzVx                    Yeat          77     180160   \n",
       "7  44IvvHRk2XF243QLA2VOa8          Stunna 4 Vegas          65     719508   \n",
       "8  7xTKLpo7UCzXSnlH7fOIoM                  Redman          69     899051   \n",
       "9  2VX0o9LDIVmKIgpnwdJpOJ            Erick Sermon          54     167385   \n",
       "\n",
       "                                              Genres  \n",
       "0         adult standards, rock-and-roll, rockabilly  \n",
       "1            adult standards, easy listening, lounge  \n",
       "2   neo soul, pop, pop soul, r&b, urban contemporary  \n",
       "3                                                pop  \n",
       "4                                                NaN  \n",
       "5                             melodic rap, rap, trap  \n",
       "6                                         vapor trap  \n",
       "7                                               trap  \n",
       "8  east coast hip hop, gangster rap, hardcore hip...  \n",
       "9  alternative hip hop, gangster rap, hardcore hi...  "
      ]
     },
     "execution_count": 47,
     "metadata": {},
     "output_type": "execute_result"
    }
   ],
   "source": [
    "artists_df.head(10)"
   ]
  },
  {
   "cell_type": "code",
   "execution_count": 50,
   "id": "37c2c628",
   "metadata": {},
   "outputs": [],
   "source": [
    "artists_df = artists_df.dropna()\n",
    "\n",
    "def parse_genres(genres, popularity, followers):\n",
    "    return {\n",
    "        \"Genres\": genres.split(', '),\n",
    "        \"Popularity\": popularity,\n",
    "        \"Followers\": followers\n",
    "    }\n",
    "\n",
    "def parse_combinations(genres, popularity, followers):\n",
    "    gc = list(itertools.combinations(genres.split(', '), 2))\n",
    "    if gc:\n",
    "        return {\n",
    "            \"Genres\": gc,\n",
    "            \"Popularity\": popularity,\n",
    "            \"Followers\": followers\n",
    "        }"
   ]
  },
  {
   "cell_type": "code",
   "execution_count": 51,
   "id": "1a158920",
   "metadata": {},
   "outputs": [],
   "source": [
    "genres = [parse_genres(row[0],row[1],row[2]) for row in zip(artists_df['Genres'], artists_df['Popularity'], artists_df['Followers'])]\n",
    "genres = [g for g in genres if g]\n",
    "\n",
    "genre_combinations = [parse_combinations(row[0],row[1],row[2]) for row in zip(artists_df['Genres'], artists_df['Popularity'], artists_df['Followers'])]\n",
    "genre_combinations = [c for c in genre_combinations if c]"
   ]
  },
  {
   "cell_type": "code",
   "execution_count": 52,
   "id": "5b0988ea",
   "metadata": {},
   "outputs": [
    {
     "name": "stdout",
     "output_type": "stream",
     "text": [
      "[{'Genres': ['adult standards', 'rock-and-roll', 'rockabilly'], 'Popularity': 81, 'Followers': 6230579}, {'Genres': ['adult standards', 'easy listening', 'lounge'], 'Popularity': 84, 'Followers': 5335732}, {'Genres': ['neo soul', 'pop', 'pop soul', 'r&b', 'urban contemporary'], 'Popularity': 82, 'Followers': 6076119}, {'Genres': ['pop'], 'Popularity': 98, 'Followers': 48303522}, {'Genres': ['melodic rap', 'rap', 'trap'], 'Popularity': 86, 'Followers': 6233744}]\n"
     ]
    }
   ],
   "source": [
    "print(genres[:5])"
   ]
  },
  {
   "cell_type": "code",
   "execution_count": 53,
   "id": "81dc5443",
   "metadata": {},
   "outputs": [],
   "source": [
    "edges = [{'Edge': j, 'Popularity': i['Popularity'],'Followers': i['Followers']}  for i in genre_combinations for j in i['Genres']]"
   ]
  },
  {
   "cell_type": "code",
   "execution_count": 54,
   "id": "e2c84cef",
   "metadata": {},
   "outputs": [
    {
     "name": "stdout",
     "output_type": "stream",
     "text": [
      "[{'Edge': ('adult standards', 'rock-and-roll'), 'Popularity': 81, 'Followers': 6230579}, {'Edge': ('adult standards', 'rockabilly'), 'Popularity': 81, 'Followers': 6230579}, {'Edge': ('rock-and-roll', 'rockabilly'), 'Popularity': 81, 'Followers': 6230579}, {'Edge': ('adult standards', 'easy listening'), 'Popularity': 84, 'Followers': 5335732}, {'Edge': ('adult standards', 'lounge'), 'Popularity': 84, 'Followers': 5335732}]\n"
     ]
    }
   ],
   "source": [
    "print(edges[:5])"
   ]
  },
  {
   "cell_type": "code",
   "execution_count": 55,
   "id": "759ff630",
   "metadata": {},
   "outputs": [
    {
     "name": "stdout",
     "output_type": "stream",
     "text": [
      "                                Edge  Popularity  Followers\n",
      "0   (adult standards, rock-and-roll)          81    6230579\n",
      "1      (adult standards, rockabilly)          81    6230579\n",
      "2        (rock-and-roll, rockabilly)          81    6230579\n",
      "3  (adult standards, easy listening)          84    5335732\n",
      "4          (adult standards, lounge)          84    5335732\n"
     ]
    }
   ],
   "source": [
    "edges = pd.DataFrame.from_dict(edges)\n",
    "print(edges.head())"
   ]
  },
  {
   "cell_type": "code",
   "execution_count": 56,
   "id": "a6b373a7",
   "metadata": {},
   "outputs": [
    {
     "name": "stdout",
     "output_type": "stream",
     "text": [
      "                                                   Popularity       Followers  \\\n",
      "                                                         mean count      mean   \n",
      "Edge                                                                            \n",
      "(21st century classical, american 21st century ...       55.0     1   82609.0   \n",
      "(21st century classical, choral)                         55.0     1   82609.0   \n",
      "(21st century classical, contemporary choir)             55.0     1   82609.0   \n",
      "(abstract beats, alternative r&b)                        54.0     1  172039.0   \n",
      "(abstract beats, escape room)                            54.0     1  172039.0   \n",
      "\n",
      "                                                          \n",
      "                                                   count  \n",
      "Edge                                                      \n",
      "(21st century classical, american 21st century ...     1  \n",
      "(21st century classical, choral)                       1  \n",
      "(21st century classical, contemporary choir)           1  \n",
      "(abstract beats, alternative r&b)                      1  \n",
      "(abstract beats, escape room)                          1  \n"
     ]
    }
   ],
   "source": [
    "edges = pd.DataFrame(edges.groupby(['Edge']).agg(['mean','count']))\n",
    "print(edges.head())"
   ]
  },
  {
   "cell_type": "code",
   "execution_count": 57,
   "id": "b5f992ce",
   "metadata": {},
   "outputs": [
    {
     "name": "stdout",
     "output_type": "stream",
     "text": [
      "                                                    Mean Popularity  Count  \\\n",
      "Edge                                                                         \n",
      "(21st century classical, american 21st century ...             55.0      1   \n",
      "(21st century classical, choral)                               55.0      1   \n",
      "(21st century classical, contemporary choir)                   55.0      1   \n",
      "(abstract beats, alternative r&b)                              54.0      1   \n",
      "(abstract beats, escape room)                                  54.0      1   \n",
      "\n",
      "                                                    Mean Followers  All Count  \n",
      "Edge                                                                           \n",
      "(21st century classical, american 21st century ...         82609.0          1  \n",
      "(21st century classical, choral)                           82609.0          1  \n",
      "(21st century classical, contemporary choir)               82609.0          1  \n",
      "(abstract beats, alternative r&b)                         172039.0          1  \n",
      "(abstract beats, escape room)                             172039.0          1  \n"
     ]
    }
   ],
   "source": [
    "edges.columns = ['Mean Popularity','Count','Mean Followers','All Count']\n",
    "print(edges.head())"
   ]
  },
  {
   "cell_type": "code",
   "execution_count": 58,
   "id": "25ec090e",
   "metadata": {},
   "outputs": [
    {
     "name": "stdout",
     "output_type": "stream",
     "text": [
      "                                                Edge  Mean Popularity  Count  \\\n",
      "0  (21st century classical, american 21st century...             55.0      1   \n",
      "1                   (21st century classical, choral)             55.0      1   \n",
      "2       (21st century classical, contemporary choir)             55.0      1   \n",
      "3                  (abstract beats, alternative r&b)             54.0      1   \n",
      "4                      (abstract beats, escape room)             54.0      1   \n",
      "\n",
      "   Mean Followers  All Count  \n",
      "0         82609.0          1  \n",
      "1         82609.0          1  \n",
      "2         82609.0          1  \n",
      "3        172039.0          1  \n",
      "4        172039.0          1  \n"
     ]
    }
   ],
   "source": [
    "edges = edges.reset_index()\n",
    "print(edges.head())"
   ]
  },
  {
   "cell_type": "code",
   "execution_count": 45,
   "id": "1ddfab68",
   "metadata": {},
   "outputs": [],
   "source": [
    "edges = edges[['Edge','Mean Popularity','Count','Mean Followers']]"
   ]
  },
  {
   "cell_type": "code",
   "execution_count": 63,
   "id": "634f23bc",
   "metadata": {},
   "outputs": [
    {
     "name": "stdout",
     "output_type": "stream",
     "text": [
      "[{'Node': 'adult standards', 'Popularity': 81, 'Followers': 6230579}, {'Node': 'rock-and-roll', 'Popularity': 81, 'Followers': 6230579}, {'Node': 'rockabilly', 'Popularity': 81, 'Followers': 6230579}, {'Node': 'adult standards', 'Popularity': 84, 'Followers': 5335732}, {'Node': 'easy listening', 'Popularity': 84, 'Followers': 5335732}]\n"
     ]
    }
   ],
   "source": [
    "nodes = [{'Node': j, 'Popularity': i['Popularity'],'Followers': i['Followers']}  for i in genres for j in i['Genres']]\n",
    "print(nodes[:5])"
   ]
  },
  {
   "cell_type": "code",
   "execution_count": 64,
   "id": "6b2c1e30",
   "metadata": {},
   "outputs": [],
   "source": [
    "nodes = pd.DataFrame.from_dict(nodes)\n",
    "nodes = pd.DataFrame(nodes.groupby(['Node']).agg(['mean','count']))\n",
    "nodes.columns = ['Mean Popularity','Count','Mean Followers', 'All Count']\n",
    "nodes = nodes.reset_index()\n",
    "nodes = nodes[['Node','Mean Popularity','Count','Mean Followers']]"
   ]
  },
  {
   "cell_type": "code",
   "execution_count": 65,
   "id": "580b0518",
   "metadata": {},
   "outputs": [],
   "source": [
    "g = Graph()\n",
    "g.add_vertices(nodes['Node'])\n",
    "g.add_edges(edges['Edge'])\n",
    "g.es['Weight'] = edges['Count']\n",
    "g.es['Popularity'] = edges['Mean Popularity']\n",
    "g.es['Followers'] = edges['Mean Followers']\n",
    "g.vs['Weight'] = nodes['Count']\n",
    "g.vs['Popularity'] = nodes['Mean Popularity']\n",
    "g.vs['Followers'] = nodes['Mean Followers']\n",
    "g.to_undirected()"
   ]
  },
  {
   "cell_type": "code",
   "execution_count": 66,
   "id": "d38b1579",
   "metadata": {},
   "outputs": [
    {
     "name": "stdout",
     "output_type": "stream",
     "text": [
      "Number of vertices: 1315\n",
      "Number of edges: 6696\n",
      "Density of the graph: 0.007750403666857648\n"
     ]
    }
   ],
   "source": [
    "print(\"Number of vertices:\", g.vcount())\n",
    "print(\"Number of edges:\", g.ecount())\n",
    "print(\"Density of the graph:\", 2*g.ecount()/(g.vcount()*(g.vcount()-1)))"
   ]
  },
  {
   "cell_type": "code",
   "execution_count": 67,
   "id": "dc34ba59",
   "metadata": {},
   "outputs": [
    {
     "name": "stdout",
     "output_type": "stream",
     "text": [
      "Average degree: 10.18403041825095\n",
      "Maximum degree: 180\n",
      "Vertex ID with the maximum degree: 1038\n"
     ]
    }
   ],
   "source": [
    "degrees = []\n",
    "total = 0\n",
    "nodelength = len(nodes)\n",
    "\n",
    "for n in range(nodelength):\n",
    "    neighbours = g.neighbors(n, mode='ALL')\n",
    "    total += len(neighbours)\n",
    "    degrees.append(len(neighbours))\n",
    "    \n",
    "print(\"Average degree:\", total/nodelength)\n",
    "print(\"Maximum degree:\", max(degrees))\n",
    "print(\"Vertex ID with the maximum degree:\", degrees.index(max(degrees)))"
   ]
  },
  {
   "cell_type": "code",
   "execution_count": 68,
   "id": "29fa0788",
   "metadata": {},
   "outputs": [
    {
     "name": "stdout",
     "output_type": "stream",
     "text": [
      "Vertex: rock, Degree: 180\n",
      "Vertex: pop, Degree: 154\n",
      "Vertex: dance pop, Degree: 141\n",
      "Vertex: pop rock, Degree: 101\n",
      "Vertex: indie folk, Degree: 93\n",
      "Vertex: art pop, Degree: 93\n",
      "Vertex: indie pop, Degree: 92\n",
      "Vertex: modern rock, Degree: 88\n",
      "Vertex: alternative rock, Degree: 84\n",
      "Vertex: pop rap, Degree: 83\n"
     ]
    }
   ],
   "source": [
    "degreever = sorted(zip(g.degree(),g.vs), reverse = True)\n",
    "for i in degreever[:10]:\n",
    "    print(\"Vertex: \"+i[1]['name']+\", Degree: \"+str(i[0]))"
   ]
  },
  {
   "cell_type": "code",
   "execution_count": 70,
   "id": "e0763a1c",
   "metadata": {},
   "outputs": [
    {
     "name": "stdout",
     "output_type": "stream",
     "text": [
      "Vertex: rock, Weighted Degree: 834.0\n",
      "Vertex: dance pop, Weighted Degree: 825.0\n",
      "Vertex: pop, Weighted Degree: 795.0\n",
      "Vertex: mellow gold, Weighted Degree: 460.0\n",
      "Vertex: classic rock, Weighted Degree: 460.0\n",
      "Vertex: hip hop, Weighted Degree: 412.0\n",
      "Vertex: pop rap, Weighted Degree: 398.0\n",
      "Vertex: rap, Weighted Degree: 384.0\n",
      "Vertex: soft rock, Weighted Degree: 382.0\n",
      "Vertex: edm, Weighted Degree: 379.0\n"
     ]
    }
   ],
   "source": [
    "weights = sorted(zip(g.strength(weights=g.es[\"Weight\"]),g.vs), reverse = True)\n",
    "for i in weights[:10]:\n",
    "    print(\"Vertex: \"+i[1]['name']+\", Weighted Degree: \"+str(i[0]))"
   ]
  },
  {
   "cell_type": "code",
   "execution_count": 71,
   "id": "413fa936",
   "metadata": {},
   "outputs": [
    {
     "data": {
      "image/png": "[encoded data removed]",
      "text/plain": [
       "<Figure size 432x288 with 1 Axes>"
      ]
     },
     "metadata": {
      "needs_background": "light"
     },
     "output_type": "display_data"
    }
   ],
   "source": [
    "import matplotlib.pyplot as plt\n",
    "plt.hist(g.degree(),bins = range(0,max(g.degree()),5))\n",
    "plt.title(\"Distribution of Degree\")\n",
    "plt.xlabel(\"Degree\")\n",
    "plt.ylabel(\"Count\")\n",
    "plt.show()"
   ]
  },
  {
   "cell_type": "code",
   "execution_count": 72,
   "id": "c7313daa",
   "metadata": {},
   "outputs": [
    {
     "name": "stdout",
     "output_type": "stream",
     "text": [
      "Fitted power-law distribution on discrete data\n",
      "\n",
      "Exponent (alpha)  = 2.520441\n",
      "Cutoff (xmin)     = 15.000000\n",
      "\n",
      "Log-likelihood    = -958.956210\n",
      "\n",
      "H0: data was drawn from the fitted distribution\n",
      "\n",
      "KS test statistic = 0.052242\n",
      "p-value           = 0.515608\n",
      "\n",
      "H0 could not be rejected at significance level 0.05\n"
     ]
    }
   ],
   "source": [
    "result = power_law_fit(g.degree())\n",
    "print(result.summary())"
   ]
  },
  {
   "cell_type": "code",
   "execution_count": 74,
   "id": "a35f9be4",
   "metadata": {},
   "outputs": [
    {
     "name": "stdout",
     "output_type": "stream",
     "text": [
      "Vertex: rock, Betweenness: 72594.88621321625\n",
      "Vertex: art pop, Betweenness: 65792.87683981401\n",
      "Vertex: adult standards, Betweenness: 50192.81362932891\n",
      "Vertex: pop, Betweenness: 45631.91972478186\n",
      "Vertex: dance pop, Betweenness: 42780.45604972195\n",
      "Vertex: classical, Betweenness: 38233.3672594795\n",
      "Vertex: minimalism, Betweenness: 37116.670545273846\n",
      "Vertex: compositional ambient, Betweenness: 31899.399935506375\n",
      "Vertex: indie pop, Betweenness: 24567.308096979687\n",
      "Vertex: alternative rock, Betweenness: 23728.96462141089\n"
     ]
    }
   ],
   "source": [
    "betweenness = sorted(zip(g.betweenness(directed = False, weights=g.es[\"Weight\"]),g.vs), reverse = True)\n",
    "for i in betweenness[:10]:\n",
    "    print(\"Vertex: \"+i[1]['name']+\", Betweenness: \"+str(i[0]))"
   ]
  },
  {
   "cell_type": "code",
   "execution_count": 75,
   "id": "82ca795d",
   "metadata": {},
   "outputs": [
    {
     "name": "stdout",
     "output_type": "stream",
     "text": [
      "Vertex: rock, Page Rank: 0.008892697985749109\n",
      "Vertex: pop, Page Rank: 0.008391741391419768\n",
      "Vertex: dance pop, Page Rank: 0.007370091948813444\n",
      "Vertex: classical, Page Rank: 0.004961634805231909\n",
      "Vertex: indie folk, Page Rank: 0.004940262558744335\n",
      "Vertex: art pop, Page Rank: 0.004876045251111459\n",
      "Vertex: indie pop, Page Rank: 0.004857420940446012\n",
      "Vertex: pop rock, Page Rank: 0.00479873555000805\n",
      "Vertex: modern rock, Page Rank: 0.004563800371366274\n",
      "Vertex: pop rap, Page Rank: 0.0044856742254152735\n"
     ]
    }
   ],
   "source": [
    "pgrnk = sorted(zip(g.pagerank(directed = False, weights=g.es[\"Weight\"]),g.vs), reverse = True)\n",
    "for i in pgrnk[:10]:\n",
    "    print(\"Vertex: \"+i[1]['name']+\", Page Rank: \"+str(i[0]))"
   ]
  },
  {
   "cell_type": "code",
   "execution_count": null,
   "id": "90d0887d",
   "metadata": {},
   "outputs": [],
   "source": []
  }
 ],
 "metadata": {
  "kernelspec": {
   "display_name": "Python 3 (ipykernel)",
   "language": "python",
   "name": "python3"
  },
  "language_info": {
   "codemirror_mode": {
    "name": "ipython",
    "version": 3
   },
   "file_extension": ".py",
   "mimetype": "text/x-python",
   "name": "python",
   "nbconvert_exporter": "python",
   "pygments_lexer": "ipython3",
   "version": "3.8.3"
  }
 },
 "nbformat": 4,
 "nbformat_minor": 5
}
